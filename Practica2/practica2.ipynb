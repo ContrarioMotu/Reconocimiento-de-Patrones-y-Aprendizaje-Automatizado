{
  "nbformat": 4,
  "nbformat_minor": 0,
  "metadata": {
    "colab": {
      "provenance": []
    },
    "kernelspec": {
      "name": "python3",
      "display_name": "Python 3"
    },
    "language_info": {
      "name": "python"
    }
  },
  "cells": [
    {
      "cell_type": "markdown",
      "source": [
        "##Práctica 2. Métricas de Evaluación"
      ],
      "metadata": {
        "id": "VQiMzDX5bVgB"
      }
    },
    {
      "cell_type": "markdown",
      "source": [
        "* Descarga de las muestras"
      ],
      "metadata": {
        "id": "JWcrnAPfbp-t"
      }
    },
    {
      "cell_type": "code",
      "execution_count": 1,
      "metadata": {
        "colab": {
          "base_uri": "https://localhost:8080/"
        },
        "id": "H9eLj650y9yZ",
        "outputId": "92f26ad4-ab6c-4ed4-ad7b-88fba18f337e"
      },
      "outputs": [
        {
          "output_type": "stream",
          "name": "stdout",
          "text": [
            "Downloading data from https://storage.googleapis.com/tensorflow/tf-keras-datasets/mnist.npz\n",
            "11490434/11490434 [==============================] - 0s 0us/step\n",
            "(10842, 28, 28)\n",
            "(1784, 28, 28)\n"
          ]
        }
      ],
      "source": [
        "from keras.datasets import mnist\n",
        "import numpy as np\n",
        "\n",
        "(x_train, y_train), (x_test, y_test) = mnist.load_data()\n",
        "\n",
        "# Se obtiene una muestra con igual número de: cincos vs no cincos\n",
        "# para el conjunto de entrenamiento y el de test\n",
        "idx_y_train_5 = np.where(y_train == 5)[0]\n",
        "idx_y_train_n5 = np.where(y_train != 5)[0]\n",
        "idx_y_train_n5 = np.random.choice(idx_y_train_n5, idx_y_train_5.shape[0], replace=False)\n",
        "\n",
        "idx_y_train = np.concatenate([idx_y_train_5, idx_y_train_n5])\n",
        "np.random.shuffle(idx_y_train)\n",
        "\n",
        "x_train = x_train[idx_y_train]\n",
        "y_train = y_train[idx_y_train]\n",
        "print(x_train.shape)\n",
        "\n",
        "idx_y_test_5 = np.where(y_test == 5)[0]\n",
        "idx_y_test_n5 = np.where(y_test != 5)[0]\n",
        "idx_y_test_n5 = np.random.choice(idx_y_test_n5, idx_y_test_5.shape[0], replace=False)\n",
        "\n",
        "idx_y_test = np.concatenate([idx_y_test_5, idx_y_test_n5])\n",
        "np.random.shuffle(idx_y_test)\n",
        "\n",
        "x_test = x_test[idx_y_test]\n",
        "y_test = y_test[idx_y_test]\n",
        "print(x_test.shape)\n",
        "\n",
        "y_train_binary = (y_train == 5).astype(int)\n",
        "y_test_binary = (y_test == 5).astype(int)"
      ]
    },
    {
      "cell_type": "markdown",
      "source": [
        "* Creación y entrenamiento del modelo"
      ],
      "metadata": {
        "id": "nP07WC8wbvXO"
      }
    },
    {
      "cell_type": "code",
      "source": [
        "from keras.models import Sequential\n",
        "from keras.layers import Flatten, Dense\n",
        "from keras.metrics import F1Score\n",
        "\n",
        "model = Sequential([\n",
        "    Flatten(input_shape=(28, 28)),\n",
        "    Dense(1)\n",
        "])\n",
        "\n",
        "print(model.summary())\n",
        "\n",
        "model.compile(loss='binary_crossentropy', metrics=['accuracy'])\n",
        "model.fit(x_train, y_train_binary, epochs=20, batch_size=200, validation_split=0.4)"
      ],
      "metadata": {
        "colab": {
          "base_uri": "https://localhost:8080/"
        },
        "id": "1DnIZlPc0hDq",
        "outputId": "56b3c14c-eccf-4a83-89ff-d3a70b56ca31"
      },
      "execution_count": 31,
      "outputs": [
        {
          "output_type": "stream",
          "name": "stdout",
          "text": [
            "Model: \"sequential_16\"\n",
            "_________________________________________________________________\n",
            " Layer (type)                Output Shape              Param #   \n",
            "=================================================================\n",
            " flatten_16 (Flatten)        (None, 784)               0         \n",
            "                                                                 \n",
            " dense_16 (Dense)            (None, 1)                 785       \n",
            "                                                                 \n",
            "=================================================================\n",
            "Total params: 785 (3.07 KB)\n",
            "Trainable params: 785 (3.07 KB)\n",
            "Non-trainable params: 0 (0.00 Byte)\n",
            "_________________________________________________________________\n",
            "None\n",
            "Epoch 1/20\n",
            "33/33 [==============================] - 1s 10ms/step - loss: 6.2764 - accuracy: 0.5882 - val_loss: 5.7602 - val_accuracy: 0.6216\n",
            "Epoch 2/20\n",
            "33/33 [==============================] - 0s 4ms/step - loss: 5.4798 - accuracy: 0.6401 - val_loss: 4.9638 - val_accuracy: 0.6744\n",
            "Epoch 3/20\n",
            "33/33 [==============================] - 0s 4ms/step - loss: 4.5084 - accuracy: 0.7048 - val_loss: 4.1614 - val_accuracy: 0.7268\n",
            "Epoch 4/20\n",
            "33/33 [==============================] - 0s 5ms/step - loss: 3.9573 - accuracy: 0.7408 - val_loss: 3.9730 - val_accuracy: 0.7399\n",
            "Epoch 5/20\n",
            "33/33 [==============================] - 0s 4ms/step - loss: 3.5024 - accuracy: 0.7705 - val_loss: 3.7885 - val_accuracy: 0.7524\n",
            "Epoch 6/20\n",
            "33/33 [==============================] - 0s 5ms/step - loss: 3.5124 - accuracy: 0.7708 - val_loss: 3.2636 - val_accuracy: 0.7863\n",
            "Epoch 7/20\n",
            "33/33 [==============================] - 0s 5ms/step - loss: 3.2471 - accuracy: 0.7885 - val_loss: 3.0460 - val_accuracy: 0.8008\n",
            "Epoch 8/20\n",
            "33/33 [==============================] - 0s 4ms/step - loss: 3.3769 - accuracy: 0.7794 - val_loss: 3.3948 - val_accuracy: 0.7791\n",
            "Epoch 9/20\n",
            "33/33 [==============================] - 0s 5ms/step - loss: 2.9060 - accuracy: 0.8101 - val_loss: 2.9058 - val_accuracy: 0.8109\n",
            "Epoch 10/20\n",
            "33/33 [==============================] - 0s 5ms/step - loss: 2.7716 - accuracy: 0.8191 - val_loss: 2.9890 - val_accuracy: 0.8047\n",
            "Epoch 11/20\n",
            "33/33 [==============================] - 0s 4ms/step - loss: 2.8378 - accuracy: 0.8145 - val_loss: 3.8111 - val_accuracy: 0.7507\n",
            "Epoch 12/20\n",
            "33/33 [==============================] - 0s 5ms/step - loss: 2.9597 - accuracy: 0.8068 - val_loss: 2.7195 - val_accuracy: 0.8222\n",
            "Epoch 13/20\n",
            "33/33 [==============================] - 0s 5ms/step - loss: 2.5368 - accuracy: 0.8341 - val_loss: 2.7263 - val_accuracy: 0.8220\n",
            "Epoch 14/20\n",
            "33/33 [==============================] - 0s 4ms/step - loss: 2.5329 - accuracy: 0.8347 - val_loss: 2.6728 - val_accuracy: 0.8248\n",
            "Epoch 15/20\n",
            "33/33 [==============================] - 0s 5ms/step - loss: 2.4264 - accuracy: 0.8410 - val_loss: 2.5720 - val_accuracy: 0.8319\n",
            "Epoch 16/20\n",
            "33/33 [==============================] - 0s 4ms/step - loss: 2.2884 - accuracy: 0.8504 - val_loss: 2.4163 - val_accuracy: 0.8418\n",
            "Epoch 17/20\n",
            "33/33 [==============================] - 0s 5ms/step - loss: 2.2371 - accuracy: 0.8532 - val_loss: 2.3868 - val_accuracy: 0.8437\n",
            "Epoch 18/20\n",
            "33/33 [==============================] - 0s 5ms/step - loss: 2.1563 - accuracy: 0.8595 - val_loss: 2.5869 - val_accuracy: 0.8312\n",
            "Epoch 19/20\n",
            "33/33 [==============================] - 0s 5ms/step - loss: 2.3026 - accuracy: 0.8495 - val_loss: 2.4547 - val_accuracy: 0.8398\n",
            "Epoch 20/20\n",
            "33/33 [==============================] - 0s 4ms/step - loss: 2.2358 - accuracy: 0.8535 - val_loss: 2.3644 - val_accuracy: 0.8451\n"
          ]
        },
        {
          "output_type": "execute_result",
          "data": {
            "text/plain": [
              "<keras.src.callbacks.History at 0x7aae879f9480>"
            ]
          },
          "metadata": {},
          "execution_count": 31
        }
      ]
    },
    {
      "cell_type": "markdown",
      "source": [
        "* Cálculo de las métricas de evaluación"
      ],
      "metadata": {
        "id": "GZlCnCU3b2AF"
      }
    },
    {
      "cell_type": "code",
      "source": [
        "from sklearn.metrics import confusion_matrix, \\\n",
        "precision_score, recall_score,f1_score\n",
        "\n",
        "y_pred = (model.predict(x_test) >= 0.5).astype(int)[:,0]\n",
        "\n",
        "conf_matrix = confusion_matrix(y_test_binary, y_pred)\n",
        "print(\"Matriz de confusión:\")\n",
        "print(conf_matrix)\n",
        "\n",
        "precision = precision_score(y_test_binary, y_pred)\n",
        "print(\"Precision_1:\", precision)\n",
        "recall = recall_score(y_test_binary, y_pred)\n",
        "print(\"Recall_1:\", recall)\n",
        "f1_s = f1_score(y_test_binary, y_pred)\n",
        "print(\"F1-score_1:\", f1_s)\n",
        "\n",
        "\n",
        "precision_0 = precision_score(y_test_binary, y_pred, pos_label=0)\n",
        "print(\"Precision_0:\", precision_0)\n",
        "recall_0 = recall_score(y_test_binary, y_pred, pos_label=0)\n",
        "print(\"Recall_0:\", recall_0)\n",
        "f1_s_0 = f1_score(y_test_binary, y_pred, pos_label=0)\n",
        "print(\"F1-score_0:\", f1_s_0)"
      ],
      "metadata": {
        "colab": {
          "base_uri": "https://localhost:8080/"
        },
        "id": "nRpYcFPe0jc6",
        "outputId": "46cc11c0-2647-46e9-c08f-552848585339"
      },
      "execution_count": 32,
      "outputs": [
        {
          "output_type": "stream",
          "name": "stdout",
          "text": [
            "56/56 [==============================] - 0s 1ms/step\n",
            "Matriz de confusión:\n",
            "[[778 114]\n",
            " [133 759]]\n",
            "Precision_1: 0.8694158075601375\n",
            "Recall_1: 0.850896860986547\n",
            "F1-score_1: 0.8600566572237961\n",
            "Precision_0: 0.854006586169045\n",
            "Recall_0: 0.8721973094170403\n",
            "F1-score_0: 0.863006100942873\n"
          ]
        }
      ]
    }
  ]
}