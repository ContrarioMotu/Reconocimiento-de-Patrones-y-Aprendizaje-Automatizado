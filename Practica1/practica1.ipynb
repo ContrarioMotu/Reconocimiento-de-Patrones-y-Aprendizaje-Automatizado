{
  "nbformat": 4,
  "nbformat_minor": 0,
  "metadata": {
    "colab": {
      "provenance": []
    },
    "kernelspec": {
      "name": "python3",
      "display_name": "Python 3"
    },
    "language_info": {
      "name": "python"
    }
  },
  "cells": [
    {
      "cell_type": "markdown",
      "source": [
        "# Práctica 1. Fundamentos en Python\n",
        "\n",
        "\n",
        "---\n",
        "\n"
      ],
      "metadata": {
        "id": "rGW_iNeOBkXO"
      }
    },
    {
      "cell_type": "markdown",
      "source": [
        "## Mínimo, máximo, media y desviación estándar tanto para el número de horas dedicadas como para las calificaciones obtenidas."
      ],
      "metadata": {
        "id": "BwRx_3CwAloV"
      }
    },
    {
      "cell_type": "code",
      "execution_count": 8,
      "metadata": {
        "colab": {
          "base_uri": "https://localhost:8080/"
        },
        "id": "Jjtv72AY5_zJ",
        "outputId": "e19b2e53-4902-4a1e-968f-94148bd9f622"
      },
      "outputs": [
        {
          "output_type": "stream",
          "name": "stdout",
          "text": [
            "------------ HORAS DEDICADAS ------------\n",
            "Mínimo = 2\n",
            "Máximo =  178\n",
            "Media =  99.4\n",
            "Desviación estandar =  58.129075974801204 \n",
            "\n",
            "------------ CALIFICACIONES OBTENIDAS ------------\n",
            "Mínimo = 0.0\n",
            "Máximo =  100.0\n",
            "Media =  57.65\n",
            "Desviación estandar =  37.35219996339256\n"
          ]
        }
      ],
      "source": [
        "import numpy as np\n",
        "import pandas as pd\n",
        "\n",
        "datos = pd.read_csv(\"datos.csv\")\n",
        "\n",
        "print(\"------------ HORAS DEDICADAS ------------\")\n",
        "print(\"Mínimo =\", datos[\"horas_dedicadas\"].min())\n",
        "print(\"Máximo = \", datos[\"horas_dedicadas\"].max())\n",
        "print(\"Media = \", datos[\"horas_dedicadas\"].fillna(0).mean())\n",
        "print(\"Desviación estandar = \", datos[\"horas_dedicadas\"].fillna(0).std(), \"\\n\")\n",
        "\n",
        "print(\"------------ CALIFICACIONES OBTENIDAS ------------\")\n",
        "print(\"Mínimo =\", datos[\"calificaciones_obtenida\"].min())\n",
        "print(\"Máximo = \", datos[\"calificaciones_obtenida\"].max())\n",
        "print(\"Media = \", datos[\"calificaciones_obtenida\"].fillna(0).mean())\n",
        "print(\"Desviación estandar = \", datos[\"calificaciones_obtenida\"].fillna(0).std())"
      ]
    },
    {
      "cell_type": "markdown",
      "source": [
        "## Llevar a cabo un análisis de regresión lineal utilizando estos datos y presenta un gráfico que muestre el modelo de regresión junto con los datos originales."
      ],
      "metadata": {
        "id": "UqxbRv7CAyyf"
      }
    },
    {
      "cell_type": "code",
      "source": [
        "from sklearn.linear_model import LinearRegression\n",
        "import matplotlib.pyplot as plt\n",
        "\n",
        "horas = np.array(datos[\"horas_dedicadas\"])\n",
        "calificaciones = np.array(datos[\"calificaciones_obtenida\"].fillna(0))\n",
        "\n",
        "horas = horas.reshape(-1, 1)\n",
        "\n",
        "modelo = LinearRegression()\n",
        "modelo.fit(horas, calificaciones)\n",
        "\n",
        "plt.scatter(horas, calificaciones, color=\"blue\")\n",
        "plt.plot(horas, modelo.predict(horas), color=\"red\")\n",
        "plt.title(\"Regresión Lineal: Horas dedicadas vs Calificación\")\n",
        "plt.xlabel(\"Horas dedicadas\")\n",
        "plt.ylabel(\"Calificación\")\n",
        "plt.show()"
      ],
      "metadata": {
        "colab": {
          "base_uri": "https://localhost:8080/",
          "height": 472
        },
        "id": "xmWZj6lE-Sfg",
        "outputId": "a2cdfd86-c0b5-4468-ec50-97a28db99e9d"
      },
      "execution_count": 9,
      "outputs": [
        {
          "output_type": "display_data",
          "data": {
            "text/plain": [
              "<Figure size 640x480 with 1 Axes>"
            ],
            "image/png": "[encoded data removed]"
          },
          "metadata": {}
        }
      ]
    },
    {
      "cell_type": "markdown",
      "source": [
        "## Utilizar el modelo de regresión para realizar una predicción de la calificación de un estudiante que hubiera dedicado $n$ horas en el semestre a la materia (donde $n$ es la suma de los dígitos de su número de cuenta módulo 50)."
      ],
      "metadata": {
        "id": "Lv7EUxGoBNuI"
      }
    },
    {
      "cell_type": "code",
      "source": [
        "predic = (3 + 1 + 5 + 3 + 3 + 2 + 1 + 2 + 2) % 50\n",
        "\n",
        "calif = modelo.predict(np.array([[predic]]))\n",
        "\n",
        "print(\"Horas dedicadas = \", predic)\n",
        "print(\"Calificación esperada = \", calif[0])"
      ],
      "metadata": {
        "colab": {
          "base_uri": "https://localhost:8080/"
        },
        "id": "Jz2YdlJWsp2z",
        "outputId": "723d7069-cd34-4421-972a-b7d810138e98"
      },
      "execution_count": 11,
      "outputs": [
        {
          "output_type": "stream",
          "name": "stdout",
          "text": [
            "Horas dedicadas =  22\n",
            "Calificación esperada =  15.46776675680054\n"
          ]
        }
      ]
    },
    {
      "cell_type": "markdown",
      "source": [
        "## Investigar métodos para evaluar la bondad de ajuste del modelo y determinar cuán efectivamente explica el comportamiento de los datos."
      ],
      "metadata": {
        "id": "k8jdmZ99CDMi"
      }
    },
    {
      "cell_type": "markdown",
      "source": [
        "Algunos métodos son:\n",
        "\n",
        "* **Coeficiente de determinación (R cuadrado)**: Este es uno de los métodos más utilizados, varía entre 0 y 1, donde 1 indica un ajuste perfecto del modelo a los datos y 0 indica que el modelo no explica la variabilidad de los datos.\n",
        "\n",
        "* **Validación cruzada**: Se dividen los datos en un conjunto de entrenamiento y un conjunto de prueba, ajustando el modelo en el conjunto de entrenamiento y evaluando su rendimiento en el conjunto de prueba.\n",
        "\n",
        "* **AIC (Criterio de Información de Akaike)**: Penaliza la complejidad del modelo, lo que significa que favorecen modelos más simples con buen ajuste."
      ],
      "metadata": {
        "id": "FUnRCv3xCWho"
      }
    }
  ]
}